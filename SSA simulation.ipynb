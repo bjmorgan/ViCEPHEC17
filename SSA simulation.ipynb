{
 "cells": [
  {
   "cell_type": "markdown",
   "metadata": {},
   "source": [
    "# Numerical Simulation of the Steady-State Approximation\n",
    "\n",
    "This notebook contains Python code that simulates the following reaction:\n",
    "\n",
    "\\begin{equation}\n",
    "\\mathrm{A}\\underset{k_{-1}}{\\overset{k_1}\\rightleftarrows}\\mathrm{B}\\overset{k_2}\\rightarrow{\\mathrm{C}}\n",
    "\\end{equation}\n",
    "\n",
    "Starting from a set of initial concentrations and the rate constants, the simulation calculates how the concentrations change with time. The initial concentrations and rate constants are specified in one of the code cells below, and you can change these to explore how this affects the reaction kinetics.\n",
    "\n",
    "To run the simulation, click on **Cell > Run All** from the menu.\n",
    "\n",
    "As the simulation runs, the reagent concentrations and the rates of change of these concentrations are collected. After the simulation has finished, these data are used to generate three plots:\n",
    "\n",
    "1. The concentrations of A, B, and C as a function of time.\n",
    "\n",
    "2. The rate of change of the concentration of B.  \n",
    "The steady-state approximation assumes that a short-lived intermediate is consumed at the same rate it is formed. Mathematically, the rate of change of this intermediate is assumed to be equal to zero.\n",
    "\n",
    "3. The rate of change of the concentration of the product, C, and the **negative** rate of change of the primary reactant, A.  \n",
    "The algebraic techniques you have learned in your lectures and tutorials can be used to show that if the steady-state approximation holds then these two rates are equal. Comparing the rates from the simulation gives a way to visually check when (and if) the steady-state approximation is valid.\n",
    "\n",
    "One advantage of using computational simulation techniques to look at this problem is that we have direct access to the rates of change of the three substances A, B, and C. These rates are key concepts in the theory of reaction kinetics, but cannot be directly measured in experiments.\n",
    "\n",
    "More information about *how* the simulation works (both the maths and the code) is at the bottom of the notebook → [How does it work?](#how)"
   ]
  },
  {
   "cell_type": "code",
   "execution_count": 1,
   "metadata": {
    "collapsed": true
   },
   "outputs": [],
   "source": [
    "# import numpy for handling arrays, and matplotlib.pyplot to generate plots\n",
    "import numpy as np\n",
    "import matplotlib.pyplot as plt\n",
    "%matplotlib inline\n",
    "#%config InlineBackend.figure_format = 'retina' # uncomment for high-DPI screens"
   ]
  },
  {
   "cell_type": "code",
   "execution_count": 2,
   "metadata": {
    "collapsed": true
   },
   "outputs": [],
   "source": [
    "## simulation input parameters ##\n",
    "\n",
    "# initial concentrations of A, B, and C\n",
    "c_A0 = 10.0\n",
    "c_B0 = 0.0\n",
    "c_C0 = 0.0\n",
    "\n",
    "# reation rates, k_1, k_minus_1, and k_2\n",
    "k1 = 3.0\n",
    "km1 = 2.0\n",
    "k2 = 10.0"
   ]
  },
  {
   "cell_type": "code",
   "execution_count": 3,
   "metadata": {
    "collapsed": true
   },
   "outputs": [],
   "source": [
    "# functions defining the rate equations for [A], [B], and [C]\n",
    "def d_A_by_d_t( c_A, c_B, k1, km1 ):\n",
    "    return ( - k1  * c_A\n",
    "             + km1 * c_B )\n",
    "\n",
    "def d_B_by_d_t( c_A, c_B, k1, km1, k2 ):\n",
    "    return ( + k1  * c_A\n",
    "             - km1 * c_B  \n",
    "             - k2  * c_B )\n",
    "\n",
    "def d_C_by_d_t( c_B, k2 ):\n",
    "    return ( + k2 * c_B )"
   ]
  },
  {
   "cell_type": "code",
   "execution_count": 4,
   "metadata": {
    "collapsed": true
   },
   "outputs": [],
   "source": [
    "# \"Technical\" Simulation Parameters\n",
    "# delta_t is the time between simulation timesteps\n",
    "delta_t = 1e-2\n",
    "# the simulation is run for n_steps steps.\n",
    "n_steps = 200\n",
    "# so the total simulation time is n_steps * delta_t"
   ]
  },
  {
   "cell_type": "code",
   "execution_count": 5,
   "metadata": {
    "collapsed": true
   },
   "outputs": [],
   "source": [
    "# create arrays to store [A], [B], and [C] (and d[B]/dt) during the simulation\n",
    "store_c_A          = np.zeros( n_steps )\n",
    "store_c_B          = np.zeros( n_steps )\n",
    "store_c_C          = np.zeros( n_steps )\n",
    "\n",
    "store_d_c_A_by_d_t = np.zeros( n_steps )\n",
    "store_d_c_B_by_d_t = np.zeros( n_steps )\n",
    "store_d_c_C_by_d_t = np.zeros( n_steps )"
   ]
  },
  {
   "cell_type": "code",
   "execution_count": 6,
   "metadata": {
    "collapsed": true
   },
   "outputs": [],
   "source": [
    "# Run the Simulation\n",
    "\n",
    "# set the concentrations of A, B, and C to the initial concentrations\n",
    "c_A = c_A0\n",
    "c_B = c_B0\n",
    "c_C = c_C0\n",
    "\n",
    "# now loop over n_steps timesteps.\n",
    "for step in range( n_steps ): \n",
    "    # store the concentrations at this simulation step so that we can plot them later\n",
    "    store_c_A[ step ] = c_A\n",
    "    store_c_B[ step ] = c_B\n",
    "    store_c_C[ step ] = c_C\n",
    "\n",
    "    # store the rate of change of [A], [B], and [C] at this simulation step so that we can plot them later\n",
    "    store_d_c_A_by_d_t[ step ] = d_A_by_d_t( c_A, c_B, k1, km1 )\n",
    "    store_d_c_B_by_d_t[ step ] = d_B_by_d_t( c_A, c_B, k1, km1, k2 )\n",
    "    store_d_c_C_by_d_t[ step ] = d_C_by_d_t( c_B, k2 )\n",
    "    \n",
    "    # calculate the concentrations at t + Δt\n",
    "    # each concentration is changed by ( d[x]/dt × Δt )\n",
    "    c_A += store_d_c_A_by_d_t[ step ] * delta_t\n",
    "    c_B += store_d_c_B_by_d_t[ step ] * delta_t\n",
    "    c_C += store_d_c_C_by_d_t[ step ] * delta_t"
   ]
  },
  {
   "cell_type": "code",
   "execution_count": 7,
   "metadata": {
    "collapsed": true
   },
   "outputs": [],
   "source": [
    "# we want to plot our simulation data against time, \n",
    "# so we generate an array of times at every simulation step\n",
    "time = np.arange( n_steps ) * delta_t"
   ]
  },
  {
   "cell_type": "code",
   "execution_count": 8,
   "metadata": {},
   "outputs": [
    {
     "data": {
      "image/png": "[encoded data removed]",
      "text/plain": [
       "<matplotlib.figure.Figure at 0x109c99828>"
      ]
     },
     "metadata": {},
     "output_type": "display_data"
    },
    {
     "data": {
      "image/png": "[encoded data removed]",
      "text/plain": [
       "<matplotlib.figure.Figure at 0x109d5b898>"
      ]
     },
     "metadata": {},
     "output_type": "display_data"
    },
    {
     "data": {
      "image/png": "[encoded data removed]",
      "text/plain": [
       "<matplotlib.figure.Figure at 0x109e6b5c0>"
      ]
     },
     "metadata": {},
     "output_type": "display_data"
    }
   ],
   "source": [
    "## plot the simulation data ##\n",
    "\n",
    "# plot [X] vs. time\n",
    "plt.plot( time, store_c_A, label='[A]' )\n",
    "plt.plot( time, store_c_B, label='[B]' )\n",
    "plt.plot( time, store_c_C, label='[C]' )\n",
    "plt.legend()\n",
    "plt.title('[X] vs. t')\n",
    "plt.show()\n",
    "\n",
    "# plot the rate of change of [B]\n",
    "plt.plot( time, store_d_c_B_by_d_t, label=r'd[B]/d$t$' )\n",
    "plt.legend()\n",
    "plt.title('rate of change of [B] vs. t')\n",
    "plt.show()\n",
    "\n",
    "# if the SSA is exact, d[C]/dt = -d[A]/dt\n",
    "plt.plot( time, -store_d_c_A_by_d_t, label=r'-d[A]/d$t$' )\n",
    "plt.plot( time,  store_d_c_C_by_d_t, label=r'd[C]/d$t$' )\n",
    "plt.title('graphical check of SSA')\n",
    "plt.legend()\n",
    "plt.show()"
   ]
  },
  {
   "cell_type": "markdown",
   "metadata": {},
   "source": [
    "## How does it work? <a id=\"how\"><a/>\n",
    "\n",
    "### Defining functions\n",
    "\n",
    "Python contains a large number of built-in mathematical functions, such as `ln(x)` and `sqrt(x)` for calculating $f(x)=\\log(x)$ and $f(x)=\\sqrt x$.\n",
    "\n",
    "In addition to these built-in functions, we can define our own functions. To define a function that calculates $f(x)=x^2$ we might use\n",
    "```python\n",
    "def x_squared( x ):\n",
    "    return x**2\n",
    "```\n",
    "\n",
    "The first line defines the name of the function, and lists the variables that are inputs to the function (these are called function **arguments**). A function can contain any number of lines of code, but **returns** whatever comes after the `return` statement.\n",
    "\n",
    "In our example, we can now calculate the square of $x$ by **calling** this function with our value of $x$ as the argument:\n",
    "```\n",
    "x_squared( 3 )\n",
    "```\n",
    "\n",
    "In practice this looks like:"
   ]
  },
  {
   "cell_type": "code",
   "execution_count": 9,
   "metadata": {},
   "outputs": [
    {
     "data": {
      "text/plain": [
       "9"
      ]
     },
     "execution_count": 9,
     "metadata": {},
     "output_type": "execute_result"
    }
   ],
   "source": [
    "def x_squared( x ):\n",
    "    return x**2\n",
    "\n",
    "x_squared( 3 )"
   ]
  },
  {
   "cell_type": "markdown",
   "metadata": {},
   "source": [
    "Functions can have more than one argument, e.g. $f(a,b)=a+b$:"
   ]
  },
  {
   "cell_type": "code",
   "execution_count": 10,
   "metadata": {},
   "outputs": [
    {
     "data": {
      "text/plain": [
       "8"
      ]
     },
     "execution_count": 10,
     "metadata": {},
     "output_type": "execute_result"
    }
   ],
   "source": [
    "def add_a_and_b( a, b ):\n",
    "    return a + b\n",
    "\n",
    "add_a_and_b( 5, 3 )"
   ]
  },
  {
   "cell_type": "markdown",
   "metadata": {},
   "source": [
    "### How is this used in the simulation?\n",
    "\n",
    "The reaction scheme defines the differential rate equations for A, B, and C:\n",
    "\n",
    "\\begin{equation}\n",
    "\\frac{\\mathrm{d}\\, [A]}{\\mathrm{d}\\, t} = - k_1[A] + k_{-1}[B]\\tag{1}\n",
    "\\end{equation}\n",
    "\n",
    "\\begin{equation}\n",
    "\\frac{\\mathrm{d}\\, [B]}{\\mathrm{d}\\, t} = + k_1[A] - k_{-1}[B] - k_2[B]\\tag{2}\n",
    "\\end{equation}\n",
    "\n",
    "\\begin{equation}\n",
    "\\frac{\\mathrm{d}\\, [C]}{\\mathrm{d}\\, t} = k_2[C]\\tag{3}\n",
    "\\end{equation}\n",
    "\n",
    "Each of these equations defines the **rate of change** of either A, B, or C as a function of  relevant concentrations and rates.\n",
    "\n",
    "For example, the rate of change of $[A]$ is a function of $[A]$, $[B]$, $k_1$, and $k_{-1}$.\n",
    "\n",
    "\\begin{equation}\n",
    "\\frac{\\mathrm{d}\\, [A]}{\\mathrm{d}\\, t} = f([A], [B], k_1, k_{-1}) = - k_1[A] + k_{-1}[B]\\tag{1}\n",
    "\\end{equation}\n",
    "\n",
    "This is expressed in the code as\n",
    "```python\n",
    "def d_A_by_d_t( c_A, c_B, k1, km1 ):\n",
    "    return ( - k1  * c_A\n",
    "             + km1 * c_B )\n",
    "```\n",
    "\n",
    "The function arguments are given variable names `c_A`, `c_B`, `k1`, and `km1`, and are used to store $[A]$, $[B]$, $k_1$, and $k_{-1}$ respectively. Equivalent functions are defined for the rates of change of [B] and [C].\n",
    "\n",
    "Using these functions, if we know the concentrations of A, B, and C, and the rate constants, $k_1$, $k_{-1}$, and $k_2$, we can calculate the rates of change of [A], [B], and [C].\n",
    "\n",
    "The simulation consists of a series of **timesteps** that represent the reaction moving forward in time. At each timestep the concentrations at time $t$ are used to calculate the rates of change of [A], [B], and [C]. If we assume that these rates of change are fixed then we can calculate the concentrations at time $t+\\Delta t$ where $\\Delta t$ is the length of one timestep. e.g. from Eqn. 1 we have\n",
    "\n",
    "\\begin{equation}\n",
    "\\frac{\\Delta [A]_t}{\\Delta t} = -k_1[A]_t+k_{-1}[B]_t,\n",
    "\\end{equation}\n",
    "\n",
    "and\n",
    "\n",
    "\\begin{equation}\n",
    "\\Delta[A]_t = \\left(-k_1[A]_t+k_{-1}[B]_t\\right)\\Delta t,\n",
    "\\end{equation}\n",
    "\n",
    "This is an (approximate) **integrated** rate equation that gives changes in $[A]$, leading to\n",
    "\n",
    "\\begin{equation}\n",
    "[A]_{t+\\Delta t} = [A]_t + \\left(-k_1[A]_t+k_{-1}[B]_t\\right)\\Delta t.\n",
    "\\end{equation}\n",
    "\n",
    "During the simulation, at each timestep we calculate $\\Delta[A]$, $\\Delta[B]$, and $\\Delta[C]$, and use these to calculate concentrations $t+\\Delta t$. By repeating this process over many small timesteps, we can generate a prediction for how the concentrations vary in time (called a simulation **trajectory**).\n",
    "\n",
    "This approach approximates the continuous changes in the concentrations as a series of straight line segments, and is equivalent to integration using the [Trapezium Rule](https://en.wikipedia.org/wiki/Trapezoidal_rule). For simulations where numerical accuracy is important, more accurate (and complicated) integration schemes are used; for example for simulating ions diffusing through through battery materials, or for predicting flight paths of satellites.\n",
    "\n",
    "The main part of the simulation code performs a loop over `n_steps` timesteps, using a `for` loop:\n",
    "```python\n",
    "for i in range( n_steps ):\n",
    "    # everything in here is repeated n_steps times\n",
    "```\n",
    "At each step:\n",
    "1. The current concentrations are stored in arrays, so that they can be plotted later\n",
    "2. The *changes* in concentrations are calculated, using the earlier-defined functions.\n",
    "3. These changes are used to update the concentrations.  \n",
    "\n",
    "This process is repeated until the end of the simulation is reached."
   ]
  },
  {
   "cell_type": "code",
   "execution_count": null,
   "metadata": {
    "collapsed": true
   },
   "outputs": [],
   "source": []
  }
 ],
 "metadata": {
  "kernelspec": {
   "display_name": "Python 3",
   "language": "python",
   "name": "python3"
  },
  "language_info": {
   "codemirror_mode": {
    "name": "ipython",
    "version": 3
   },
   "file_extension": ".py",
   "mimetype": "text/x-python",
   "name": "python",
   "nbconvert_exporter": "python",
   "pygments_lexer": "ipython3",
   "version": "3.6.1"
  }
 },
 "nbformat": 4,
 "nbformat_minor": 2
}
