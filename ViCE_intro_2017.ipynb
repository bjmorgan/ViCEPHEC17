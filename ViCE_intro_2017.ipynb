{
 "cells": [
  {
   "cell_type": "markdown",
   "metadata": {},
   "source": [
    "# Data Analysis with Jupyter Notebooks.\n",
    "\n",
    "# ViCEPHEC\n",
    "\n",
    "Benjamin J. Morgan & Fiona Dickinson, University of Bath."
   ]
  },
  {
   "cell_type": "markdown",
   "metadata": {},
   "source": [
    "# Contents\n",
    "This introductory Python Notebook is designed only to \n",
    "\n",
    "- [Getting Started with Jupyter Notebooks](#getting_started)\n",
    "- [Running Code](#running_code)\n",
    "- [Simple Calculations](#simple_calculations)\n",
    "- [Comments and Markdown cells](#comments)\n",
    "- [Mathematical Functions and Modules](#functions_and_modules)\n",
    "- [Variables](#variables)\n",
    "- [Data Types](#data_types)\n",
    "    - [Integers and Floats](#numbers)\n",
    "        - [Scientific Notation](#scientific_notation)\n",
    "    - [Lists](#lists)\n",
    "- [Numpy and arrays](#numpy)\n",
    "- [Plotting data with matplotlib](#matplotlib)\n",
    "- [Creating Tables with 2D numpy arrays](#2d_arrays)"
   ]
  },
  {
   "cell_type": "markdown",
   "metadata": {},
   "source": [
    "# Getting Started with Jupyter Notebooks<a id='getting_started'></a>\n",
    "\n",
    "A Jupyter notebook consists of a series of **cells** that contain text. These cells are arranged vertically, top-to-bottom in the document. Any cell can be edited by clicking on it. A cell in **edit mode** is indicated by a green border. \n",
    "<img style=\"width:700px\" src='figures/target_cell.png' />\n",
    "A cell with a blue border is in **command mode**. \n",
    "<img style=\"width:700px\" src='figures/command_mode_cell.png' />\n",
    "In command mode you are not able to type into a cell, but you can still edit the notebook (reordering cells, executing code, etc.)\n",
    "\n",
    "To edit a cell in command mode, press enter or double click on the cell."
   ]
  },
  {
   "cell_type": "markdown",
   "metadata": {
    "collapsed": true
   },
   "source": [
    "## Running Code<a id=\"running_code\"></a> \n",
    "\n",
    "This course will not go into detail about how to write your own Python code. Instead, as much as possible we are going to focus on learning how to use readily available packages for data analysis. There are plenty of resources for learning Python for more traditional programming tasks, such as the tutorials at [Code Academy](https://www.codecademy.com/learn/python).\n",
    "\n",
    "The default cell type in a Jupyter notebook is a **code** cell. If you open a new notebook it will have one, empty, code cell. And you can always create more cells by clicking in the menu on Insert > Insert Cell Above (<span style=\"color:green\">a</span>) or Insert > Insert Cell Below (<span style=\"color:green\">b</span>).  \n",
    "<img style=\"width:550px\" src='figures/insert_cell.png'/>\n",
    "Any code typed into a code cell can be run (or \"**executed**\") by pressing `Shift-Enter` or pressing the <img style='display:inline; height:1.5em; vertical-align: bottom;' src='figures/run_code_button.png'/> button in the notebook toolbar.\n",
    "\n",
    "This practical consists of an interactive tutorial (this notebook), followed by a a series of exercises. Some code cells in the tutorial will already have code in them, which you can **run** by selecting and pressing `Shift-Enter` or clicking the toolbar button:"
   ]
  },
  {
   "cell_type": "code",
   "execution_count": null,
   "metadata": {},
   "outputs": [],
   "source": [
    "2+3 # run this cell…"
   ]
  },
  {
   "cell_type": "markdown",
   "metadata": {},
   "source": [
    "There will also be small exercises that ask you to write your own piece of code from scratch, or modify an example that is not finished yet; it might contain an error – often called a bug, or just not do exactly what we would like. These will be in green boxes."
   ]
  },
  {
   "cell_type": "markdown",
   "metadata": {
    "collapsed": true
   },
   "source": [
    "## Simple calculations<a id=\"simple_calculations\"></a>\n",
    "\n",
    "One of the simplest forms of &ldquo;code&rdquo; that can be run in code cells is mathematical expressions:\n",
    "\n",
    ">```python\n",
    "1+2+3+4\n",
    "```"
   ]
  },
  {
   "cell_type": "code",
   "execution_count": null,
   "metadata": {},
   "outputs": [],
   "source": []
  },
  {
   "cell_type": "markdown",
   "metadata": {},
   "source": [
    ">```python\n",
    "4*5/2\n",
    "```"
   ]
  },
  {
   "cell_type": "code",
   "execution_count": null,
   "metadata": {},
   "outputs": [],
   "source": []
  },
  {
   "cell_type": "markdown",
   "metadata": {},
   "source": [
    ">```python\n",
    "2**4 - 2\n",
    "```"
   ]
  },
  {
   "cell_type": "code",
   "execution_count": null,
   "metadata": {
    "scrolled": true
   },
   "outputs": [],
   "source": []
  },
  {
   "cell_type": "markdown",
   "metadata": {},
   "source": [
    "`**` is the &ldquo;power&rdquo; operator. This code calculates $2^4 - 2$."
   ]
  },
  {
   "cell_type": "markdown",
   "metadata": {},
   "source": [
    "<div class=\"alert alert-success\">\n",
    "Perform the following calculations in the three cells below:<br/>\n",
    "    $1+1+2+3+5+8$<br/>\n",
    "    $1*2*3*4*5*6$<br/>\n",
    "    $2^{10}$\n",
    "</div>"
   ]
  },
  {
   "cell_type": "code",
   "execution_count": null,
   "metadata": {},
   "outputs": [],
   "source": []
  },
  {
   "cell_type": "code",
   "execution_count": null,
   "metadata": {},
   "outputs": [],
   "source": []
  },
  {
   "cell_type": "code",
   "execution_count": null,
   "metadata": {},
   "outputs": [],
   "source": []
  },
  {
   "cell_type": "markdown",
   "metadata": {},
   "source": [
    "## Explain Your Code: Comments and Markdown Cells<a id=\"comments\"></a>\n",
    "Often, reading only the code can get quite cryptic (it is called &ldquo;code&rdquo;, after all), which makes it difficult to understand what is happening. To explain what a particular piece of code does, or to explain *why* a piece of code is being used, you can include **comments**.\n",
    "\n",
    " \n",
    "```python\n",
    "# this is a comment\n",
    "```\n",
    "\n",
    "Any text that appears after a <span style=\"font-family:monospace; color:#438080\">#</span> symbol is part of the comment, and is ignored when the code is run. \n",
    "\n",
    "Jupyter notebooks offer a second way to describe what you are doing: **Markdown cells**. A code cell can be converted to a Markdown cell by selecting Cell > Cell Type > Markdown from the menu.  \n",
    "<img src='figures/markdown.png', width=350/>  \n",
    "A Markdown cell can be used to type plain text, which is displayed when the cell is run. Markdown cells are useful for documenting a notebook, particularly when you want to write something more detailed than a short comment. Markdown cells can also contain basic text formatting, links, images, and equations (more information is [here](http://jupyter-notebook.readthedocs.io/en/latest/examples/Notebook/Working%20With%20Markdown%20Cells.html))."
   ]
  },
  {
   "cell_type": "markdown",
   "metadata": {},
   "source": [
    "<div class=\"alert alert-success\">\n",
    "The cell below should be a Markdown cell, but it is currently a code cell.<br/>\n",
    "First run the cell to see what happens.\n",
    "Then change it into a **Markdown** cell, before re-running it. \n",
    "</div>"
   ]
  },
  {
   "cell_type": "code",
   "execution_count": null,
   "metadata": {
    "collapsed": true
   },
   "outputs": [],
   "source": [
    "Markdown cells allow you to type longer text to explain what your code is doing.  \n",
    "Setting this cell to Markdown, and running it will format the text for clearer reading.  \n",
    "Markdown also provides shorthand for including other features such as [links][cheatsheet].\n",
    "\n",
    "[cheatsheet]:https://github.com/adam-p/markdown-here/wiki/Markdown-Cheatsheet"
   ]
  },
  {
   "cell_type": "markdown",
   "metadata": {},
   "source": [
    "To edit a Markdown cell after it has been run, double-click on it to see the raw Markdown code."
   ]
  },
  {
   "cell_type": "markdown",
   "metadata": {},
   "source": [
    "## Mathematical functions and modules<a id=\"functions_and_modules\"></a>\n",
    "\n",
    "In mathematics, a **function** converts one number to another number; $y=f(x)$.\n",
    "\n",
    "In programming, a **function** is more general than this, and converts an input into an output. For example, if we want to calculate a square root, we can use the `sqrt()` function.\n",
    "\n",
    "First we need to import the math module:\n",
    "\n",
    ">```python\n",
    "import math\n",
    "math.sqrt(4)\n",
    "```"
   ]
  },
  {
   "cell_type": "code",
   "execution_count": null,
   "metadata": {
    "collapsed": true
   },
   "outputs": [],
   "source": []
  },
  {
   "cell_type": "markdown",
   "metadata": {},
   "source": [
    "You can think of `math.sqrt()` as instructing the computer to &ldquo;use the `sqrt()` function provided inside the  `math` module&rdquo;."
   ]
  },
  {
   "cell_type": "markdown",
   "metadata": {},
   "source": [
    "The `math` module contains a [large set of common mathematical functions](https://docs.python.org/2/library/math.html), and the constants $\\pi$ and $\\mathrm{e}$ (natural logarithm).\n",
    "\n",
    ">```python\n",
    "from math import pi, sin, e, log\n",
    "```\n",
    "\n",
    "The `log` function calculates the natural logarithm, *i.e.* $\\ln x$."
   ]
  },
  {
   "cell_type": "markdown",
   "metadata": {},
   "source": [
    ">```python\n",
    "pi\n",
    "sin( pi/2 )\n",
    "log(e) # the natural logarithm of e\n",
    "e**2\n",
    "```"
   ]
  },
  {
   "cell_type": "markdown",
   "metadata": {},
   "source": [
    "<div class=\"alert alert-success\">\n",
    "Calculate the following:  <br/><br/>\n",
    "\n",
    "  \n",
    "$\\cos(2\\pi)$  <br/><br/>\n",
    "$\\ln(2\\mathrm{e})-\\ln(2)$<br/><br/>\n",
    "$\\log_{10}(10)$  <br/><br/>\n",
    "    \n",
    "    \n",
    "The <span style=\"font-family:monospace\">math</span> function for $\\log_{10}$ is <span style=\"font-family:monospace\">log10()</span>.\n",
    "</div>"
   ]
  },
  {
   "cell_type": "code",
   "execution_count": null,
   "metadata": {
    "collapsed": true
   },
   "outputs": [],
   "source": []
  },
  {
   "cell_type": "code",
   "execution_count": null,
   "metadata": {
    "collapsed": true
   },
   "outputs": [],
   "source": []
  },
  {
   "cell_type": "code",
   "execution_count": null,
   "metadata": {
    "collapsed": true
   },
   "outputs": [],
   "source": []
  },
  {
   "cell_type": "markdown",
   "metadata": {},
   "source": [
    "#  Variables<a id=\"variables\"></a>\n",
    "\n",
    "Many of the code examples we have already seen produce some information. When each code cell is executed, if that code **returns** a result, this is printed directly underneath the corresponding code cell, next to <span style=\"color:#D64423; font-family:monospace\">Out[ ]:</span>.\n",
    "\n",
    ">```python\n",
    "72/4\n",
    "```"
   ]
  },
  {
   "cell_type": "code",
   "execution_count": null,
   "metadata": {},
   "outputs": [],
   "source": []
  },
  {
   "cell_type": "markdown",
   "metadata": {},
   "source": [
    "<span style=\"font-family:monospace\"><span style=\"color:#046308\">print</span>()</span> is another function, like `math.sqrt()` or `math.log()`. Instead of performing a mathematical calculation, <span style=\"font-family:monospace\"><span style=\"color:#046308\">print</span>()</span> just prints whatever is inside the brackets. In this example, this is exactly what happened. The text is printed to the screen, but the <span style=\"font-family:monospace\"><span style=\"color:#046308\">print</span>()</span> function does not return a value.\n",
    "\n",
    "<span style=\"font-family:monospace\"><span style=\"color:#046308\">print</span>()</span> can print more than one variable if these are separated by commas:\n",
    "\n",
    ">```python\n",
    "print(\"72/4 =\",72/4)\n",
    "```"
   ]
  },
  {
   "cell_type": "code",
   "execution_count": null,
   "metadata": {},
   "outputs": [],
   "source": []
  },
  {
   "cell_type": "markdown",
   "metadata": {},
   "source": [
    "Import statements are another example of code that does not return anything.\n",
    "\n",
    ">```python\n",
    "from math import sqrt\n",
    "```"
   ]
  },
  {
   "cell_type": "code",
   "execution_count": null,
   "metadata": {},
   "outputs": [],
   "source": []
  },
  {
   "cell_type": "markdown",
   "metadata": {},
   "source": [
    "If you run an code cell and nothing appears underneath, the code ran okay (and hopefully did what you expected). Any output under a cell will either be the **returned** result, or an error."
   ]
  },
  {
   "cell_type": "markdown",
   "metadata": {},
   "source": [
    "One aspect that makes programmatic data analysis useful comes from the ability to write complex procedures with many steps, that are then performed *identically* every time the code is run against new data sets. To build up more sophisticated data analysis workflows, we often want to keep a result of one step, to use in a later step. Storing results in computer memory is called **assigning** **variables**. A variable is just a name; a sequence of letters and numbers; that labels the stored result. Then, to access the value stored in the variable, we can use the label (the variable name) to refer to the original result.\n",
    "\n",
    ">```python\n",
    "# calculate 2 + 3\n",
    "2 + 3\n",
    "```"
   ]
  },
  {
   "cell_type": "code",
   "execution_count": null,
   "metadata": {},
   "outputs": [],
   "source": []
  },
  {
   "cell_type": "markdown",
   "metadata": {},
   "source": [
    ">```python\n",
    "# calculate 2 + 3 and store the result in the variable `my_result`\n",
    "my_result = 2 + 3\n",
    "```"
   ]
  },
  {
   "cell_type": "code",
   "execution_count": null,
   "metadata": {
    "collapsed": true
   },
   "outputs": [],
   "source": []
  },
  {
   "cell_type": "markdown",
   "metadata": {},
   "source": [
    "Notice there is no return value printed to <span style=\"color:#D64423; font-family:monospace\">Out[ ]:</span>.  \n",
    "Instead a variable `my_result` is created, and the value returned by the calculation is stored here.  \n",
    "\n",
    "Variable names can be nearly anything, as long as that name is not already used for some part of Python (e.g. `print`). Two limitations are they cannot begin with a number (but can contain numbers), and they cannot contain spaces. Underscores are commonly used instead of spaces to keep the code readable.\n",
    "\n",
    ">```python\n",
    "1st_result = 3 + 4\n",
    "```"
   ]
  },
  {
   "cell_type": "code",
   "execution_count": null,
   "metadata": {},
   "outputs": [],
   "source": []
  },
  {
   "cell_type": "markdown",
   "metadata": {},
   "source": [
    ">```python\n",
    "this result = 5 + 6\n",
    "```"
   ]
  },
  {
   "cell_type": "code",
   "execution_count": null,
   "metadata": {},
   "outputs": [],
   "source": []
  },
  {
   "cell_type": "markdown",
   "metadata": {},
   "source": [
    "<div class=\"alert alert-success\">\n",
    "Fix the two previous code cells to use <span style='font-family:monospace;'>first_result</span> and <span style='font-family:monospace;'>this_result</span> so that they will run without errors.\n",
    "</div>"
   ]
  },
  {
   "cell_type": "markdown",
   "metadata": {},
   "source": [
    "To check the value stored in a variable we can just type the variable name, which returns the stored value.\n",
    "\n",
    ">```python\n",
    "my_result\n",
    "```"
   ]
  },
  {
   "cell_type": "code",
   "execution_count": null,
   "metadata": {},
   "outputs": [],
   "source": []
  },
  {
   "cell_type": "markdown",
   "metadata": {},
   "source": [
    "Note that we only get the **last** value returned if we have multiple lines of code.\n",
    "\n",
    "\n",
    ">```python\n",
    "my_result\n",
    "this_result\n",
    "```"
   ]
  },
  {
   "cell_type": "code",
   "execution_count": null,
   "metadata": {},
   "outputs": [],
   "source": []
  },
  {
   "cell_type": "markdown",
   "metadata": {},
   "source": [
    "We can get round this by using the `print` function to print out the value stored in one or more variables\n",
    ">```python\n",
    "print( my_result )\n",
    "print( this_result )\n",
    "```"
   ]
  },
  {
   "cell_type": "code",
   "execution_count": null,
   "metadata": {},
   "outputs": [],
   "source": []
  },
  {
   "cell_type": "markdown",
   "metadata": {},
   "source": [
    "<div class=\"alert alert-success\">\n",
    "Create three variables, $x$, $y$, and $z$, and use them to store the numbers $5,6,7$.  \n",
    "\n",
    "Using these variables, calculate:<br/>\n",
    "$5+6+7$,<br/> \n",
    "and<br/>\n",
    "$(5+6)\\times7$.\n",
    "</div>"
   ]
  },
  {
   "cell_type": "code",
   "execution_count": 14,
   "metadata": {
    "collapsed": true
   },
   "outputs": [],
   "source": [
    "# create your variables and store the numbers 5, 6, 7"
   ]
  },
  {
   "cell_type": "code",
   "execution_count": null,
   "metadata": {
    "collapsed": true
   },
   "outputs": [],
   "source": [
    "# use the variables to calculate 5+6+7"
   ]
  },
  {
   "cell_type": "code",
   "execution_count": null,
   "metadata": {
    "collapsed": true
   },
   "outputs": [],
   "source": [
    "# use the variables to calculate (5+6)×7"
   ]
  },
  {
   "cell_type": "markdown",
   "metadata": {},
   "source": [
    "## Data types<a id=\"data_types\"></a>\n",
    "\n",
    "So far we have talked about &ldquo;data&rdquo; and &ldquo;results&rdquo;, but what are the pieces of information that we want to manipulate? Typically numbers (or groups of numbers) or text (or lists of text). Different kinds of data can be used for different things: numbers can be combined in mathematical expressions, text can be printed, searched, or reorganised; numbers can be arranged by magnitude, names can be arranged by alphabetical order. In Python, these differences are represented by different **data types**.\n",
    "\n",
    "### Numbers: *int* and *float*<a id=\"numbers\"></a>\n",
    "\n",
    "We will discuss two kinds of numeric types: integers and floating point numbers. Python has other built in numeric data types, including complex numbers, which are useful in specialised cases.\n",
    "\n",
    "Whole numbers, without decimal points are integers, e.g. <span style=\"color:#108714; font-family:monospace\">1</span>, <span style=\"color:#108714; font-family:monospace\">6</span>, <span style=\"color:#108714; font-family:monospace\">2331</span>.  \n",
    "Numbers with decimal points are floating point numbers or &ldquo;floats&rdquo;, e.g. <span style=\"color:#108714; font-family:monospace\">1.0</span>, <span style=\"color:#108714; font-family:monospace\">232.141</span>, <span style=\"color:#108714; font-family:monospace\">1.3e5</span>.  \n",
    "That last example uses scientific notation and is shorthand for <span style=\"color:#108714; font-family:monospace\">130000.0</span>.\n",
    "\n",
    "Note that <span style=\"color:#108714; font-family:monospace\">1</span> and <span style=\"color:#108714; font-family:monospace\">1.0</span> are different.\n",
    "\n",
    ">```python\n",
    "type(1) # `type()` returns the data-type of something\n",
    "```"
   ]
  },
  {
   "cell_type": "markdown",
   "metadata": {},
   "source": [
    ">```python\n",
    "1 is 1.0 # `is` tests whether two things are the same\n",
    "```"
   ]
  },
  {
   "cell_type": "code",
   "execution_count": null,
   "metadata": {
    "collapsed": true
   },
   "outputs": [],
   "source": []
  },
  {
   "cell_type": "markdown",
   "metadata": {},
   "source": [
    "Even though they both represent the number one, and have equal values (yes, this can be confusing), `1` and `1.0` are **not the same** because the first is an integer and the second is a float.  \n",
    "\n",
    "To reassure ourselves slightly, we can test whether two things are equal using `==`\n",
    "\n",
    ">```python\n",
    "1 == 1.0\n",
    "```"
   ]
  },
  {
   "cell_type": "code",
   "execution_count": null,
   "metadata": {
    "collapsed": true
   },
   "outputs": [],
   "source": []
  },
  {
   "cell_type": "markdown",
   "metadata": {},
   "source": [
    "### Scientific Notation<a id=\"scientific_notation\"></a>\n",
    "Very large and very small numbers can be written using **scientific notation**. For example, instead of 0.0000241, we would normally write 2.41&times;10<sup>-5</sup>. In Python this would be written `2.41e-5` or `2.41e-05`.\n",
    "\n",
    ">```python\n",
    "2.41e-5 == 0.0000241\n",
    "```"
   ]
  },
  {
   "cell_type": "markdown",
   "metadata": {},
   "source": [
    "# numpy and arrays<a id='numpy'></a>\n",
    "\n",
    "Although lists can be very useful for handling ordered collections of things, for data manipulation we usually deal with ordered lists of only numbers. The flexibility of lists means using them is (relatively) computationally slow. This is not an issue for small data sets, but can be prohibitive for large data sets, with perhaps millions or more entries.\n",
    "\n",
    "An alternative data type, specifically designed for manipulating (large) numerical data sets is the **numpy array**. `numpy` is a module for numerical scientific computing with Python, and is conventionally imported via\n",
    "\n",
    "```python\n",
    "import numpy as np\n",
    "```\n",
    "\n",
    "This is similar to the <span style=\"color:#108714; font-family:monospace; font-weight:bold\">import</span> <span style=\"font-family:monospace\">math</span> we saw [above](#functions_and_modules), but uses the <span style=\"color:#108714; font-family:monospace; font-weight:bold\">as</span> keyword to make `numpy` more convenient to work with.\n",
    "\n",
    ">```python\n",
    "import math as m\n",
    "m.sqrt(4)\n",
    "```"
   ]
  },
  {
   "cell_type": "code",
   "execution_count": null,
   "metadata": {
    "collapsed": true
   },
   "outputs": [],
   "source": []
  },
  {
   "cell_type": "markdown",
   "metadata": {},
   "source": [
    "Having imported `numpy` (as `np`) we can store lists of numbers as `numpy` arrays.\n",
    "\n",
    ">```python\n",
    "import numpy as np\n",
    "a = np.array( [ 1, 2, 3, 4 ] )\n",
    "a\n",
    "```"
   ]
  },
  {
   "cell_type": "code",
   "execution_count": null,
   "metadata": {
    "collapsed": true
   },
   "outputs": [],
   "source": []
  },
  {
   "cell_type": "markdown",
   "metadata": {},
   "source": [
    "You can think of a 1-dimensional `numpy` array as a vector, and we can use very compact code to perform *vector* mathematical operations on the entire array.\n",
    "\n",
    ">```python\n",
    "a + 1\n",
    "```"
   ]
  },
  {
   "cell_type": "code",
   "execution_count": null,
   "metadata": {
    "collapsed": true
   },
   "outputs": [],
   "source": []
  },
  {
   "cell_type": "markdown",
   "metadata": {},
   "source": [
    ">```python\n",
    "a**2\n",
    "```\n",
    "\n",
    "Remember that `**` is the $power$ operator. This code calculates $a^2$ for every number stored in `a`."
   ]
  },
  {
   "cell_type": "code",
   "execution_count": null,
   "metadata": {
    "collapsed": true
   },
   "outputs": [],
   "source": []
  },
  {
   "cell_type": "markdown",
   "metadata": {},
   "source": [
    "In both these cases, the mathematical operation (add one; square) is applied to every element in the array, and a new array with *all* the results is returned.\n",
    "\n",
    "If the mathematical expression contains two (or more) arrays, then an **element-by-element** operation is performed:\n",
    "\n",
    "e.g. vector addition:\n",
    "\n",
    ">```python\n",
    "b = np.array( [ 5, 6, 7, 8 ] )\n",
    "a + b\n",
    "```"
   ]
  },
  {
   "cell_type": "code",
   "execution_count": null,
   "metadata": {
    "collapsed": true
   },
   "outputs": [],
   "source": []
  },
  {
   "cell_type": "markdown",
   "metadata": {},
   "source": [
    "# Plotting data with matplotlib<a id='matplotlib'</a>\n",
    "\n",
    "To plot data we use another module: [`matplotlib`](http://matplotlib.org) This is a very powerful (and complicated) plotting library, that be used for quick analysis of experimental data, or to generate publication quality figures. It supports an enormous number of plot types. We are going to start with simple 2D $x,y$ plots.\n",
    "\n",
    ">```python\n",
    "import matplotlib.pyplot as plt\n",
    "%matplotlib inline\n",
    "import numpy as np\n",
    "```\n",
    "The `import` statement loads up the part of the `matplotlib` library we will use for plotting, and lets us refer to this as `plt` for convenience later.\n",
    "\n",
    "The `%matplotlib inline` command tells the Jupyter notebook that we want all out &ldquo;plots&rdquo; to appear &ldquo;inline&rdquo;, i.e. inside the notebook (alternatives include opening the plots in other windows, or saving them as graphics files). The `%` symbol at the start means this is a &ldquo;magic&rdquo; command for controlling the behaviour of this Jupyter notebook, and is not standard Python.\n",
    "\n",
    "If you are using a high DPI or &ldquo;retina&rdquo; screen, you will also want to switch on high resolution figures.\n",
    "\n",
    ">```python\n",
    "%config InlineBackend.figure_format = 'retina'\n",
    "```\n",
    "\n",
    "We also import `numpy` as `np` so that we can store our data as arrays.\n",
    "\n",
    "Creating a plot uses `plt.plot()`. Remember, we have assigned `plt` as shorthand for `matplotlib.pyplot`.\n",
    "\n",
    ">```python\n",
    "# plot the numpy arrays a and b against each other\n",
    "import numpy as np\n",
    "a = np.array( [ 1, 2, 3, 4 ] )\n",
    "b = np.array( [ 5, 6, 7, 8 ] )\n",
    "print( \"a:\", a )\n",
    "print( \"b:\", b )\n",
    "plt.plot( a, b )\n",
    "plt.show()\n",
    "```"
   ]
  },
  {
   "cell_type": "code",
   "execution_count": null,
   "metadata": {
    "collapsed": true
   },
   "outputs": [],
   "source": []
  },
  {
   "cell_type": "markdown",
   "metadata": {},
   "source": [
    "This can be used for plotting $y$ as a function of $x$, e.g. $y=x^2$.\n",
    "\n",
    ">```python\n",
    "x = np.array( [0, 1, 2, 3, 4, 5] )\n",
    "y = x**2\n",
    "plt.plot( x, y )\n",
    "plt.show()\n",
    "```"
   ]
  },
  {
   "cell_type": "code",
   "execution_count": null,
   "metadata": {
    "collapsed": true
   },
   "outputs": [],
   "source": []
  }
 ],
 "metadata": {
  "kernelspec": {
   "display_name": "Python 3",
   "language": "python",
   "name": "python3"
  },
  "language_info": {
   "codemirror_mode": {
    "name": "ipython",
    "version": 3
   },
   "file_extension": ".py",
   "mimetype": "text/x-python",
   "name": "python",
   "nbconvert_exporter": "python",
   "pygments_lexer": "ipython3",
   "version": "3.6.1"
  }
 },
 "nbformat": 4,
 "nbformat_minor": 2
}
